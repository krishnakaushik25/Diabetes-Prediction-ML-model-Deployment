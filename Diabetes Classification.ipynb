{
  "nbformat": 4,
  "nbformat_minor": 0,
  "metadata": {
    "kernelspec": {
      "display_name": "Python 3",
      "language": "python",
      "name": "python3"
    },
    "language_info": {
      "codemirror_mode": {
        "name": "ipython",
        "version": 3
      },
      "file_extension": ".py",
      "mimetype": "text/x-python",
      "name": "python",
      "nbconvert_exporter": "python",
      "pygments_lexer": "ipython3",
      "version": "3.7.4"
    },
    "colab": {
      "name": "Diabetes Classification.ipynb",
      "provenance": [],
      "collapsed_sections": [],
      "include_colab_link": true
    }
  },
  "cells": [
    {
      "cell_type": "markdown",
      "metadata": {
        "id": "view-in-github",
        "colab_type": "text"
      },
      "source": [
        "<a href=\"https://colab.research.google.com/github/krishnakaushik25/Diabetes-Prediction-ML-model-Deployment/blob/main/Diabetes%20Classification.ipynb\" target=\"_parent\"><img src=\"https://colab.research.google.com/assets/colab-badge.svg\" alt=\"Open In Colab\"/></a>"
      ]
    },
    {
      "cell_type": "markdown",
      "metadata": {
        "id": "UrS-p85lx7GO"
      },
      "source": [
        "# **Diabetes Prediction**\n",
        "\n",
        "*Predict whether a person has diabetes or not.*\n",
        "\n",
        "*Dataset Link: https://www.kaggle.com/johndasilva/diabetes*"
      ]
    },
    {
      "cell_type": "code",
      "metadata": {
        "colab": {
          "base_uri": "https://localhost:8080/"
        },
        "id": "37m1W1rLMjeq",
        "outputId": "5476059d-2d7a-4875-adaf-1b595e803ea2"
      },
      "source": [
        "from google.colab import drive\n",
        "drive.mount('/content/drive')"
      ],
      "execution_count": null,
      "outputs": [
        {
          "output_type": "stream",
          "text": [
            "Mounted at /content/drive\n"
          ],
          "name": "stdout"
        }
      ]
    },
    {
      "cell_type": "code",
      "metadata": {
        "id": "4xUDcfBU3JDc"
      },
      "source": [
        "# Importing essential libraries\n",
        "import numpy as np\n",
        "import pandas as pd"
      ],
      "execution_count": null,
      "outputs": []
    },
    {
      "cell_type": "code",
      "metadata": {
        "id": "jeLwzX1AMQLj"
      },
      "source": [
        "df=pd.read_csv(\"/content/drive/MyDrive/diabetes.csv\")"
      ],
      "execution_count": null,
      "outputs": []
    },
    {
      "cell_type": "markdown",
      "metadata": {
        "id": "SjBB0JyK3JDk"
      },
      "source": [
        "# Exploring the dataset"
      ]
    },
    {
      "cell_type": "code",
      "metadata": {
        "id": "Jge6AkPG3JDk",
        "colab": {
          "base_uri": "https://localhost:8080/"
        },
        "outputId": "90453073-c881-40ce-830e-970f7b600d67"
      },
      "source": [
        "# Returns number of rows and columns of the dataset\n",
        "df.shape"
      ],
      "execution_count": null,
      "outputs": [
        {
          "output_type": "execute_result",
          "data": {
            "text/plain": [
              "(2000, 9)"
            ]
          },
          "metadata": {
            "tags": []
          },
          "execution_count": 6
        }
      ]
    },
    {
      "cell_type": "code",
      "metadata": {
        "id": "KJ6meBZF3JDu",
        "colab": {
          "base_uri": "https://localhost:8080/"
        },
        "outputId": "a55a6298-4ca0-4253-ec91-fcedfe42a13f"
      },
      "source": [
        "# Returns an object with all of the column headers \n",
        "df.columns"
      ],
      "execution_count": null,
      "outputs": [
        {
          "output_type": "execute_result",
          "data": {
            "text/plain": [
              "Index(['Pregnancies', 'Glucose', 'BloodPressure', 'SkinThickness', 'Insulin',\n",
              "       'BMI', 'DiabetesPedigreeFunction', 'Age', 'Outcome'],\n",
              "      dtype='object')"
            ]
          },
          "metadata": {
            "tags": []
          },
          "execution_count": 7
        }
      ]
    },
    {
      "cell_type": "code",
      "metadata": {
        "id": "OOP2UM043JD2",
        "colab": {
          "base_uri": "https://localhost:8080/"
        },
        "outputId": "9ec89be2-47ad-4d2d-a5d0-0938d21b0254"
      },
      "source": [
        "# Returns different datatypes for each columns (float, int, string, bool, etc.)\n",
        "df.dtypes"
      ],
      "execution_count": null,
      "outputs": [
        {
          "output_type": "execute_result",
          "data": {
            "text/plain": [
              "Pregnancies                   int64\n",
              "Glucose                       int64\n",
              "BloodPressure                 int64\n",
              "SkinThickness                 int64\n",
              "Insulin                       int64\n",
              "BMI                         float64\n",
              "DiabetesPedigreeFunction    float64\n",
              "Age                           int64\n",
              "Outcome                       int64\n",
              "dtype: object"
            ]
          },
          "metadata": {
            "tags": []
          },
          "execution_count": 8
        }
      ]
    },
    {
      "cell_type": "code",
      "metadata": {
        "scrolled": true,
        "id": "A_EQ7-2J3JDo",
        "colab": {
          "base_uri": "https://localhost:8080/",
          "height": 203
        },
        "outputId": "51e05625-705c-4ff1-dbbd-ec3840c472a0"
      },
      "source": [
        "# Returns the first x number of rows when head(num). Without a number it returns 5\n",
        "df.head()"
      ],
      "execution_count": null,
      "outputs": [
        {
          "output_type": "execute_result",
          "data": {
            "text/html": [
              "<div>\n",
              "<style scoped>\n",
              "    .dataframe tbody tr th:only-of-type {\n",
              "        vertical-align: middle;\n",
              "    }\n",
              "\n",
              "    .dataframe tbody tr th {\n",
              "        vertical-align: top;\n",
              "    }\n",
              "\n",
              "    .dataframe thead th {\n",
              "        text-align: right;\n",
              "    }\n",
              "</style>\n",
              "<table border=\"1\" class=\"dataframe\">\n",
              "  <thead>\n",
              "    <tr style=\"text-align: right;\">\n",
              "      <th></th>\n",
              "      <th>Pregnancies</th>\n",
              "      <th>Glucose</th>\n",
              "      <th>BloodPressure</th>\n",
              "      <th>SkinThickness</th>\n",
              "      <th>Insulin</th>\n",
              "      <th>BMI</th>\n",
              "      <th>DiabetesPedigreeFunction</th>\n",
              "      <th>Age</th>\n",
              "      <th>Outcome</th>\n",
              "    </tr>\n",
              "  </thead>\n",
              "  <tbody>\n",
              "    <tr>\n",
              "      <th>0</th>\n",
              "      <td>2</td>\n",
              "      <td>138</td>\n",
              "      <td>62</td>\n",
              "      <td>35</td>\n",
              "      <td>0</td>\n",
              "      <td>33.6</td>\n",
              "      <td>0.127</td>\n",
              "      <td>47</td>\n",
              "      <td>1</td>\n",
              "    </tr>\n",
              "    <tr>\n",
              "      <th>1</th>\n",
              "      <td>0</td>\n",
              "      <td>84</td>\n",
              "      <td>82</td>\n",
              "      <td>31</td>\n",
              "      <td>125</td>\n",
              "      <td>38.2</td>\n",
              "      <td>0.233</td>\n",
              "      <td>23</td>\n",
              "      <td>0</td>\n",
              "    </tr>\n",
              "    <tr>\n",
              "      <th>2</th>\n",
              "      <td>0</td>\n",
              "      <td>145</td>\n",
              "      <td>0</td>\n",
              "      <td>0</td>\n",
              "      <td>0</td>\n",
              "      <td>44.2</td>\n",
              "      <td>0.630</td>\n",
              "      <td>31</td>\n",
              "      <td>1</td>\n",
              "    </tr>\n",
              "    <tr>\n",
              "      <th>3</th>\n",
              "      <td>0</td>\n",
              "      <td>135</td>\n",
              "      <td>68</td>\n",
              "      <td>42</td>\n",
              "      <td>250</td>\n",
              "      <td>42.3</td>\n",
              "      <td>0.365</td>\n",
              "      <td>24</td>\n",
              "      <td>1</td>\n",
              "    </tr>\n",
              "    <tr>\n",
              "      <th>4</th>\n",
              "      <td>1</td>\n",
              "      <td>139</td>\n",
              "      <td>62</td>\n",
              "      <td>41</td>\n",
              "      <td>480</td>\n",
              "      <td>40.7</td>\n",
              "      <td>0.536</td>\n",
              "      <td>21</td>\n",
              "      <td>0</td>\n",
              "    </tr>\n",
              "  </tbody>\n",
              "</table>\n",
              "</div>"
            ],
            "text/plain": [
              "   Pregnancies  Glucose  BloodPressure  ...  DiabetesPedigreeFunction  Age  Outcome\n",
              "0            2      138             62  ...                     0.127   47        1\n",
              "1            0       84             82  ...                     0.233   23        0\n",
              "2            0      145              0  ...                     0.630   31        1\n",
              "3            0      135             68  ...                     0.365   24        1\n",
              "4            1      139             62  ...                     0.536   21        0\n",
              "\n",
              "[5 rows x 9 columns]"
            ]
          },
          "metadata": {
            "tags": []
          },
          "execution_count": 9
        }
      ]
    },
    {
      "cell_type": "code",
      "metadata": {
        "id": "VAiJatY93JDx",
        "colab": {
          "base_uri": "https://localhost:8080/"
        },
        "outputId": "f050fc52-a326-4b99-d212-1ca15087c667"
      },
      "source": [
        "# Returns basic information on all columns\n",
        "df.info()"
      ],
      "execution_count": null,
      "outputs": [
        {
          "output_type": "stream",
          "text": [
            "<class 'pandas.core.frame.DataFrame'>\n",
            "RangeIndex: 2000 entries, 0 to 1999\n",
            "Data columns (total 9 columns):\n",
            " #   Column                    Non-Null Count  Dtype  \n",
            "---  ------                    --------------  -----  \n",
            " 0   Pregnancies               2000 non-null   int64  \n",
            " 1   Glucose                   2000 non-null   int64  \n",
            " 2   BloodPressure             2000 non-null   int64  \n",
            " 3   SkinThickness             2000 non-null   int64  \n",
            " 4   Insulin                   2000 non-null   int64  \n",
            " 5   BMI                       2000 non-null   float64\n",
            " 6   DiabetesPedigreeFunction  2000 non-null   float64\n",
            " 7   Age                       2000 non-null   int64  \n",
            " 8   Outcome                   2000 non-null   int64  \n",
            "dtypes: float64(2), int64(7)\n",
            "memory usage: 140.8 KB\n"
          ],
          "name": "stdout"
        }
      ]
    },
    {
      "cell_type": "code",
      "metadata": {
        "id": "N6nJNmDv3JDz",
        "colab": {
          "base_uri": "https://localhost:8080/",
          "height": 326
        },
        "outputId": "fc41aabd-f42c-48bd-f70b-b856a31d62a5"
      },
      "source": [
        "# Returns basic statistics on numeric columns\n",
        "df.describe().T"
      ],
      "execution_count": null,
      "outputs": [
        {
          "output_type": "execute_result",
          "data": {
            "text/html": [
              "<div>\n",
              "<style scoped>\n",
              "    .dataframe tbody tr th:only-of-type {\n",
              "        vertical-align: middle;\n",
              "    }\n",
              "\n",
              "    .dataframe tbody tr th {\n",
              "        vertical-align: top;\n",
              "    }\n",
              "\n",
              "    .dataframe thead th {\n",
              "        text-align: right;\n",
              "    }\n",
              "</style>\n",
              "<table border=\"1\" class=\"dataframe\">\n",
              "  <thead>\n",
              "    <tr style=\"text-align: right;\">\n",
              "      <th></th>\n",
              "      <th>count</th>\n",
              "      <th>mean</th>\n",
              "      <th>std</th>\n",
              "      <th>min</th>\n",
              "      <th>25%</th>\n",
              "      <th>50%</th>\n",
              "      <th>75%</th>\n",
              "      <th>max</th>\n",
              "    </tr>\n",
              "  </thead>\n",
              "  <tbody>\n",
              "    <tr>\n",
              "      <th>Pregnancies</th>\n",
              "      <td>2000.0</td>\n",
              "      <td>3.70350</td>\n",
              "      <td>3.306063</td>\n",
              "      <td>0.000</td>\n",
              "      <td>1.000</td>\n",
              "      <td>3.000</td>\n",
              "      <td>6.000</td>\n",
              "      <td>17.00</td>\n",
              "    </tr>\n",
              "    <tr>\n",
              "      <th>Glucose</th>\n",
              "      <td>2000.0</td>\n",
              "      <td>121.18250</td>\n",
              "      <td>32.068636</td>\n",
              "      <td>0.000</td>\n",
              "      <td>99.000</td>\n",
              "      <td>117.000</td>\n",
              "      <td>141.000</td>\n",
              "      <td>199.00</td>\n",
              "    </tr>\n",
              "    <tr>\n",
              "      <th>BloodPressure</th>\n",
              "      <td>2000.0</td>\n",
              "      <td>69.14550</td>\n",
              "      <td>19.188315</td>\n",
              "      <td>0.000</td>\n",
              "      <td>63.500</td>\n",
              "      <td>72.000</td>\n",
              "      <td>80.000</td>\n",
              "      <td>122.00</td>\n",
              "    </tr>\n",
              "    <tr>\n",
              "      <th>SkinThickness</th>\n",
              "      <td>2000.0</td>\n",
              "      <td>20.93500</td>\n",
              "      <td>16.103243</td>\n",
              "      <td>0.000</td>\n",
              "      <td>0.000</td>\n",
              "      <td>23.000</td>\n",
              "      <td>32.000</td>\n",
              "      <td>110.00</td>\n",
              "    </tr>\n",
              "    <tr>\n",
              "      <th>Insulin</th>\n",
              "      <td>2000.0</td>\n",
              "      <td>80.25400</td>\n",
              "      <td>111.180534</td>\n",
              "      <td>0.000</td>\n",
              "      <td>0.000</td>\n",
              "      <td>40.000</td>\n",
              "      <td>130.000</td>\n",
              "      <td>744.00</td>\n",
              "    </tr>\n",
              "    <tr>\n",
              "      <th>BMI</th>\n",
              "      <td>2000.0</td>\n",
              "      <td>32.19300</td>\n",
              "      <td>8.149901</td>\n",
              "      <td>0.000</td>\n",
              "      <td>27.375</td>\n",
              "      <td>32.300</td>\n",
              "      <td>36.800</td>\n",
              "      <td>80.60</td>\n",
              "    </tr>\n",
              "    <tr>\n",
              "      <th>DiabetesPedigreeFunction</th>\n",
              "      <td>2000.0</td>\n",
              "      <td>0.47093</td>\n",
              "      <td>0.323553</td>\n",
              "      <td>0.078</td>\n",
              "      <td>0.244</td>\n",
              "      <td>0.376</td>\n",
              "      <td>0.624</td>\n",
              "      <td>2.42</td>\n",
              "    </tr>\n",
              "    <tr>\n",
              "      <th>Age</th>\n",
              "      <td>2000.0</td>\n",
              "      <td>33.09050</td>\n",
              "      <td>11.786423</td>\n",
              "      <td>21.000</td>\n",
              "      <td>24.000</td>\n",
              "      <td>29.000</td>\n",
              "      <td>40.000</td>\n",
              "      <td>81.00</td>\n",
              "    </tr>\n",
              "    <tr>\n",
              "      <th>Outcome</th>\n",
              "      <td>2000.0</td>\n",
              "      <td>0.34200</td>\n",
              "      <td>0.474498</td>\n",
              "      <td>0.000</td>\n",
              "      <td>0.000</td>\n",
              "      <td>0.000</td>\n",
              "      <td>1.000</td>\n",
              "      <td>1.00</td>\n",
              "    </tr>\n",
              "  </tbody>\n",
              "</table>\n",
              "</div>"
            ],
            "text/plain": [
              "                           count       mean  ...      75%     max\n",
              "Pregnancies               2000.0    3.70350  ...    6.000   17.00\n",
              "Glucose                   2000.0  121.18250  ...  141.000  199.00\n",
              "BloodPressure             2000.0   69.14550  ...   80.000  122.00\n",
              "SkinThickness             2000.0   20.93500  ...   32.000  110.00\n",
              "Insulin                   2000.0   80.25400  ...  130.000  744.00\n",
              "BMI                       2000.0   32.19300  ...   36.800   80.60\n",
              "DiabetesPedigreeFunction  2000.0    0.47093  ...    0.624    2.42\n",
              "Age                       2000.0   33.09050  ...   40.000   81.00\n",
              "Outcome                   2000.0    0.34200  ...    1.000    1.00\n",
              "\n",
              "[9 rows x 8 columns]"
            ]
          },
          "metadata": {
            "tags": []
          },
          "execution_count": 11
        }
      ]
    },
    {
      "cell_type": "code",
      "metadata": {
        "scrolled": true,
        "id": "qUL3dLHF3JD4",
        "colab": {
          "base_uri": "https://localhost:8080/"
        },
        "outputId": "389bb0e4-7c82-439a-e17b-56f28b5e3d8f"
      },
      "source": [
        "# Returns true for a column having null values, else false\n",
        "df.isnull().any()"
      ],
      "execution_count": null,
      "outputs": [
        {
          "output_type": "execute_result",
          "data": {
            "text/plain": [
              "Pregnancies                 False\n",
              "Glucose                     False\n",
              "BloodPressure               False\n",
              "SkinThickness               False\n",
              "Insulin                     False\n",
              "BMI                         False\n",
              "DiabetesPedigreeFunction    False\n",
              "Age                         False\n",
              "Outcome                     False\n",
              "dtype: bool"
            ]
          },
          "metadata": {
            "tags": []
          },
          "execution_count": 12
        }
      ]
    },
    {
      "cell_type": "code",
      "metadata": {
        "scrolled": true,
        "id": "PN4nWFrV3JD6",
        "colab": {
          "base_uri": "https://localhost:8080/",
          "height": 203
        },
        "outputId": "11c3b945-bc35-4c68-940d-708c8a3a0dc0"
      },
      "source": [
        "df = df.rename(columns={'DiabetesPedigreeFunction':'DPF'})\n",
        "df.head()"
      ],
      "execution_count": null,
      "outputs": [
        {
          "output_type": "execute_result",
          "data": {
            "text/html": [
              "<div>\n",
              "<style scoped>\n",
              "    .dataframe tbody tr th:only-of-type {\n",
              "        vertical-align: middle;\n",
              "    }\n",
              "\n",
              "    .dataframe tbody tr th {\n",
              "        vertical-align: top;\n",
              "    }\n",
              "\n",
              "    .dataframe thead th {\n",
              "        text-align: right;\n",
              "    }\n",
              "</style>\n",
              "<table border=\"1\" class=\"dataframe\">\n",
              "  <thead>\n",
              "    <tr style=\"text-align: right;\">\n",
              "      <th></th>\n",
              "      <th>Pregnancies</th>\n",
              "      <th>Glucose</th>\n",
              "      <th>BloodPressure</th>\n",
              "      <th>SkinThickness</th>\n",
              "      <th>Insulin</th>\n",
              "      <th>BMI</th>\n",
              "      <th>DPF</th>\n",
              "      <th>Age</th>\n",
              "      <th>Outcome</th>\n",
              "    </tr>\n",
              "  </thead>\n",
              "  <tbody>\n",
              "    <tr>\n",
              "      <th>0</th>\n",
              "      <td>2</td>\n",
              "      <td>138</td>\n",
              "      <td>62</td>\n",
              "      <td>35</td>\n",
              "      <td>0</td>\n",
              "      <td>33.6</td>\n",
              "      <td>0.127</td>\n",
              "      <td>47</td>\n",
              "      <td>1</td>\n",
              "    </tr>\n",
              "    <tr>\n",
              "      <th>1</th>\n",
              "      <td>0</td>\n",
              "      <td>84</td>\n",
              "      <td>82</td>\n",
              "      <td>31</td>\n",
              "      <td>125</td>\n",
              "      <td>38.2</td>\n",
              "      <td>0.233</td>\n",
              "      <td>23</td>\n",
              "      <td>0</td>\n",
              "    </tr>\n",
              "    <tr>\n",
              "      <th>2</th>\n",
              "      <td>0</td>\n",
              "      <td>145</td>\n",
              "      <td>0</td>\n",
              "      <td>0</td>\n",
              "      <td>0</td>\n",
              "      <td>44.2</td>\n",
              "      <td>0.630</td>\n",
              "      <td>31</td>\n",
              "      <td>1</td>\n",
              "    </tr>\n",
              "    <tr>\n",
              "      <th>3</th>\n",
              "      <td>0</td>\n",
              "      <td>135</td>\n",
              "      <td>68</td>\n",
              "      <td>42</td>\n",
              "      <td>250</td>\n",
              "      <td>42.3</td>\n",
              "      <td>0.365</td>\n",
              "      <td>24</td>\n",
              "      <td>1</td>\n",
              "    </tr>\n",
              "    <tr>\n",
              "      <th>4</th>\n",
              "      <td>1</td>\n",
              "      <td>139</td>\n",
              "      <td>62</td>\n",
              "      <td>41</td>\n",
              "      <td>480</td>\n",
              "      <td>40.7</td>\n",
              "      <td>0.536</td>\n",
              "      <td>21</td>\n",
              "      <td>0</td>\n",
              "    </tr>\n",
              "  </tbody>\n",
              "</table>\n",
              "</div>"
            ],
            "text/plain": [
              "   Pregnancies  Glucose  BloodPressure  ...    DPF  Age  Outcome\n",
              "0            2      138             62  ...  0.127   47        1\n",
              "1            0       84             82  ...  0.233   23        0\n",
              "2            0      145              0  ...  0.630   31        1\n",
              "3            0      135             68  ...  0.365   24        1\n",
              "4            1      139             62  ...  0.536   21        0\n",
              "\n",
              "[5 rows x 9 columns]"
            ]
          },
          "metadata": {
            "tags": []
          },
          "execution_count": 13
        }
      ]
    },
    {
      "cell_type": "code",
      "metadata": {
        "id": "FlGgOBhauyBf"
      },
      "source": [
        "# Importing essential libraries for visualization\n",
        "import matplotlib.pyplot as plt\n",
        "import seaborn as sns\n",
        "%matplotlib inline"
      ],
      "execution_count": null,
      "outputs": []
    },
    {
      "cell_type": "code",
      "metadata": {
        "id": "eyrQmKVR3JD8",
        "colab": {
          "base_uri": "https://localhost:8080/",
          "height": 442
        },
        "outputId": "34f52d41-85af-4c86-f9f5-216390f16eb9"
      },
      "source": [
        "# Plotting the Outcomes based on the number of dataset entries\n",
        "plt.figure(figsize=(10,7))\n",
        "sns.countplot(x='Outcome', data=df)\n",
        "\n",
        "# Removing the unwanted spines\n",
        "plt.gca().spines['top'].set_visible(False)\n",
        "plt.gca().spines['right'].set_visible(False)\n",
        "\n",
        "# Headings\n",
        "plt.xlabel('Has Diabetes')\n",
        "plt.ylabel('Count')\n",
        "\n",
        "plt.show()"
      ],
      "execution_count": null,
      "outputs": [
        {
          "output_type": "display_data",
          "data": {
            "image/png": "[encoded data removed]",
            "text/plain": [
              "<Figure size 720x504 with 1 Axes>"
            ]
          },
          "metadata": {
            "tags": [],
            "needs_background": "light"
          }
        }
      ]
    },
    {
      "cell_type": "markdown",
      "metadata": {
        "id": "XrbvKzGH3JD_"
      },
      "source": [
        "# Data Cleaning"
      ]
    },
    {
      "cell_type": "code",
      "metadata": {
        "scrolled": true,
        "id": "XwBCwiaM3JD_",
        "colab": {
          "base_uri": "https://localhost:8080/"
        },
        "outputId": "aafb9444-b0d1-4b2f-89a7-fdb086b35039"
      },
      "source": [
        "# Replacing the 0 values from ['Glucose','BloodPressure','SkinThickness','Insulin','BMI'] by NaN\n",
        "df_copy = df.copy(deep=True)\n",
        "df_copy[['Glucose','BloodPressure','SkinThickness','Insulin','BMI']] = df_copy[['Glucose','BloodPressure','SkinThickness','Insulin','BMI']].replace(0,np.NaN)\n",
        "df_copy.isnull().sum()"
      ],
      "execution_count": null,
      "outputs": [
        {
          "output_type": "execute_result",
          "data": {
            "text/plain": [
              "Pregnancies        0\n",
              "Glucose           13\n",
              "BloodPressure     90\n",
              "SkinThickness    573\n",
              "Insulin          956\n",
              "BMI               28\n",
              "DPF                0\n",
              "Age                0\n",
              "Outcome            0\n",
              "dtype: int64"
            ]
          },
          "metadata": {
            "tags": []
          },
          "execution_count": 17
        }
      ]
    },
    {
      "cell_type": "code",
      "metadata": {
        "scrolled": false,
        "id": "HKCVpoMu3JEB",
        "colab": {
          "base_uri": "https://localhost:8080/",
          "height": 879
        },
        "outputId": "028eb3ea-1c9d-4aa5-d7da-df9a93fdb92c"
      },
      "source": [
        "# To fill these Nan values the data distribution needs to be understood\n",
        "# Plotting histogram of dataset before replacing NaN values\n",
        "p = df_copy.hist(figsize = (15,15))"
      ],
      "execution_count": null,
      "outputs": [
        {
          "output_type": "display_data",
          "data": {
            "image/png": "[encoded data removed]",
            "text/plain": [
              "<Figure size 1080x1080 with 9 Axes>"
            ]
          },
          "metadata": {
            "tags": [],
            "needs_background": "light"
          }
        }
      ]
    },
    {
      "cell_type": "code",
      "metadata": {
        "id": "HK9AaWn-3JEE"
      },
      "source": [
        "# Replacing NaN value by mean, median depending upon distribution\n",
        "df_copy['Glucose'].fillna(df_copy['Glucose'].mean(), inplace=True)\n",
        "df_copy['BloodPressure'].fillna(df_copy['BloodPressure'].mean(), inplace=True)\n",
        "df_copy['SkinThickness'].fillna(df_copy['SkinThickness'].median(), inplace=True)\n",
        "df_copy['Insulin'].fillna(df_copy['Insulin'].median(), inplace=True)\n",
        "df_copy['BMI'].fillna(df_copy['BMI'].median(), inplace=True)"
      ],
      "execution_count": null,
      "outputs": []
    },
    {
      "cell_type": "code",
      "metadata": {
        "id": "LHzZCpss3JEG",
        "colab": {
          "base_uri": "https://localhost:8080/",
          "height": 879
        },
        "outputId": "989d1b06-3d33-4e0d-a2ba-7cd1c33d7bf9"
      },
      "source": [
        "# Plotting histogram of dataset after replacing NaN values\n",
        "p = df_copy.hist(figsize=(15,15))"
      ],
      "execution_count": null,
      "outputs": [
        {
          "output_type": "display_data",
          "data": {
            "image/png": "[encoded data removed]",
            "text/plain": [
              "<Figure size 1080x1080 with 9 Axes>"
            ]
          },
          "metadata": {
            "tags": [],
            "needs_background": "light"
          }
        }
      ]
    },
    {
      "cell_type": "code",
      "metadata": {
        "scrolled": false,
        "id": "DfDSEvG93JEI",
        "colab": {
          "base_uri": "https://localhost:8080/"
        },
        "outputId": "f74c6190-1803-4676-abf3-f3877a67839a"
      },
      "source": [
        "df_copy.isnull().sum()"
      ],
      "execution_count": null,
      "outputs": [
        {
          "output_type": "execute_result",
          "data": {
            "text/plain": [
              "Pregnancies      0\n",
              "Glucose          0\n",
              "BloodPressure    0\n",
              "SkinThickness    0\n",
              "Insulin          0\n",
              "BMI              0\n",
              "DPF              0\n",
              "Age              0\n",
              "Outcome          0\n",
              "dtype: int64"
            ]
          },
          "metadata": {
            "tags": []
          },
          "execution_count": 21
        }
      ]
    },
    {
      "cell_type": "markdown",
      "metadata": {
        "id": "--ARcFzq3JEK"
      },
      "source": [
        "# Model Building"
      ]
    },
    {
      "cell_type": "code",
      "metadata": {
        "id": "TC6gk8wvzRaN",
        "colab": {
          "base_uri": "https://localhost:8080/"
        },
        "outputId": "fcf0d76a-0983-4358-c8aa-81c231755a75"
      },
      "source": [
        "from sklearn.model_selection import train_test_split\n",
        "\n",
        "X = df.drop(columns='Outcome')\n",
        "y = df['Outcome']\n",
        "\n",
        "X_train, X_test, y_train, y_test = train_test_split(X, y, test_size=0.25, random_state=0)\n",
        "print('X_train size: {}, X_test size: {}'.format(X_train.shape, X_test.shape))"
      ],
      "execution_count": null,
      "outputs": [
        {
          "output_type": "stream",
          "text": [
            "X_train size: (1500, 8), X_test size: (500, 8)\n"
          ],
          "name": "stdout"
        }
      ]
    },
    {
      "cell_type": "code",
      "metadata": {
        "id": "kEU3-uwu3JEK"
      },
      "source": [
        "# Feature Scaling\n",
        "from sklearn.preprocessing import StandardScaler\n",
        "sc = StandardScaler()\n",
        "X_train = sc.fit_transform(X_train)\n",
        "X_test = sc.transform(X_test)"
      ],
      "execution_count": null,
      "outputs": []
    },
    {
      "cell_type": "code",
      "metadata": {
        "id": "WJdY_Qof3JEQ"
      },
      "source": [
        "# Using GridSearchCV to find the best algorithm for this problem\n",
        "from sklearn.model_selection import GridSearchCV\n",
        "from sklearn.model_selection import ShuffleSplit\n",
        "from sklearn.linear_model import LogisticRegression\n",
        "from sklearn.tree import DecisionTreeClassifier\n",
        "from sklearn.ensemble import RandomForestClassifier\n",
        "from sklearn.svm import SVC"
      ],
      "execution_count": null,
      "outputs": []
    },
    {
      "cell_type": "code",
      "metadata": {
        "id": "ZH88KB8V3JES",
        "colab": {
          "base_uri": "https://localhost:8080/",
          "height": 172
        },
        "outputId": "eacd493a-2a50-407e-d592-6a79cfde106b"
      },
      "source": [
        "# Creating a function to calculate best model for this problem\n",
        "def find_best_model(X, y):\n",
        "    models = {\n",
        "        'logistic_regression': {\n",
        "            'model': LogisticRegression(solver='lbfgs', multi_class='auto'),\n",
        "            'parameters': {\n",
        "                'C': [1,5,10]\n",
        "               }\n",
        "        },\n",
        "        \n",
        "        'decision_tree': {\n",
        "            'model': DecisionTreeClassifier(splitter='best'),\n",
        "            'parameters': {\n",
        "                'criterion': ['gini', 'entropy'],\n",
        "                'max_depth': [5,10]\n",
        "            }\n",
        "        },\n",
        "        \n",
        "        'random_forest': {\n",
        "            'model': RandomForestClassifier(criterion='gini'),\n",
        "            'parameters': {\n",
        "                'n_estimators': [10,15,20,50,100,200]\n",
        "            }\n",
        "        },\n",
        "        \n",
        "        'svm': {\n",
        "            'model': SVC(gamma='auto'),\n",
        "            'parameters': {\n",
        "                'C': [1,10,20],\n",
        "                'kernel': ['rbf','linear']\n",
        "            }\n",
        "        }\n",
        "\n",
        "    }\n",
        "    \n",
        "    scores = [] \n",
        "    cv_shuffle = ShuffleSplit(n_splits=5, test_size=0.20, random_state=0)\n",
        "        \n",
        "    for model_name, model_params in models.items():\n",
        "        gs = GridSearchCV(model_params['model'], model_params['parameters'], cv = cv_shuffle, return_train_score=False)\n",
        "        gs.fit(X, y)\n",
        "        scores.append({\n",
        "            'model': model_name,\n",
        "            'best_parameters': gs.best_params_,\n",
        "            'score': gs.best_score_\n",
        "        })\n",
        "        \n",
        "    return pd.DataFrame(scores, columns=['model','best_parameters','score'])\n",
        "\n",
        "find_best_model(X_train, y_train)"
      ],
      "execution_count": null,
      "outputs": [
        {
          "output_type": "execute_result",
          "data": {
            "text/html": [
              "<div>\n",
              "<style scoped>\n",
              "    .dataframe tbody tr th:only-of-type {\n",
              "        vertical-align: middle;\n",
              "    }\n",
              "\n",
              "    .dataframe tbody tr th {\n",
              "        vertical-align: top;\n",
              "    }\n",
              "\n",
              "    .dataframe thead th {\n",
              "        text-align: right;\n",
              "    }\n",
              "</style>\n",
              "<table border=\"1\" class=\"dataframe\">\n",
              "  <thead>\n",
              "    <tr style=\"text-align: right;\">\n",
              "      <th></th>\n",
              "      <th>model</th>\n",
              "      <th>best_parameters</th>\n",
              "      <th>score</th>\n",
              "    </tr>\n",
              "  </thead>\n",
              "  <tbody>\n",
              "    <tr>\n",
              "      <th>0</th>\n",
              "      <td>logistic_regression</td>\n",
              "      <td>{'C': 1}</td>\n",
              "      <td>0.782667</td>\n",
              "    </tr>\n",
              "    <tr>\n",
              "      <th>1</th>\n",
              "      <td>decision_tree</td>\n",
              "      <td>{'criterion': 'gini', 'max_depth': 10}</td>\n",
              "      <td>0.902000</td>\n",
              "    </tr>\n",
              "    <tr>\n",
              "      <th>2</th>\n",
              "      <td>random_forest</td>\n",
              "      <td>{'n_estimators': 10}</td>\n",
              "      <td>0.940000</td>\n",
              "    </tr>\n",
              "    <tr>\n",
              "      <th>3</th>\n",
              "      <td>svm</td>\n",
              "      <td>{'C': 20, 'kernel': 'rbf'}</td>\n",
              "      <td>0.860667</td>\n",
              "    </tr>\n",
              "  </tbody>\n",
              "</table>\n",
              "</div>"
            ],
            "text/plain": [
              "                 model                         best_parameters     score\n",
              "0  logistic_regression                                {'C': 1}  0.782667\n",
              "1        decision_tree  {'criterion': 'gini', 'max_depth': 10}  0.902000\n",
              "2        random_forest                    {'n_estimators': 10}  0.940000\n",
              "3                  svm              {'C': 20, 'kernel': 'rbf'}  0.860667"
            ]
          },
          "metadata": {
            "tags": []
          },
          "execution_count": 56
        }
      ]
    },
    {
      "cell_type": "markdown",
      "metadata": {
        "id": "wsFM9vUt3JEU"
      },
      "source": [
        "*Note: Since the Random Forest algorithm has the highest accuracy, we futher fine tune the model using hyperparameter optimization.*"
      ]
    },
    {
      "cell_type": "code",
      "metadata": {
        "id": "g8uyaELV3JEU",
        "colab": {
          "base_uri": "https://localhost:8080/"
        },
        "outputId": "50936e6f-80fa-4f12-92da-88d9ed05e171"
      },
      "source": [
        "# Using cross_val_score for gaining average accuracy\n",
        "from sklearn.model_selection import cross_val_score\n",
        "scores = cross_val_score(RandomForestClassifier(n_estimators=200, random_state=0), X_train, y_train, cv=5)\n",
        "print('Average Accuracy : {}%'.format(round(sum(scores)*100/len(scores)), 3))"
      ],
      "execution_count": null,
      "outputs": [
        {
          "output_type": "stream",
          "text": [
            "Average Accuracy : 94%\n"
          ],
          "name": "stdout"
        }
      ]
    },
    {
      "cell_type": "code",
      "metadata": {
        "id": "JGpQhKFq3JEb",
        "colab": {
          "base_uri": "https://localhost:8080/"
        },
        "outputId": "8304765d-4c24-4456-b61d-b9f6258b193a"
      },
      "source": [
        "# Creating Random Forest Model\n",
        "classifier = RandomForestClassifier(n_estimators=200, random_state=0)\n",
        "classifier.fit(X_train, y_train)"
      ],
      "execution_count": null,
      "outputs": [
        {
          "output_type": "execute_result",
          "data": {
            "text/plain": [
              "RandomForestClassifier(bootstrap=True, ccp_alpha=0.0, class_weight=None,\n",
              "                       criterion='gini', max_depth=None, max_features='auto',\n",
              "                       max_leaf_nodes=None, max_samples=None,\n",
              "                       min_impurity_decrease=0.0, min_impurity_split=None,\n",
              "                       min_samples_leaf=1, min_samples_split=2,\n",
              "                       min_weight_fraction_leaf=0.0, n_estimators=200,\n",
              "                       n_jobs=None, oob_score=False, random_state=0, verbose=0,\n",
              "                       warm_start=False)"
            ]
          },
          "metadata": {
            "tags": []
          },
          "execution_count": 38
        }
      ]
    },
    {
      "cell_type": "markdown",
      "metadata": {
        "id": "DdlS0qSO1nBN"
      },
      "source": [
        "# Model Evaluation"
      ]
    },
    {
      "cell_type": "code",
      "metadata": {
        "id": "pluF-HMb3JEj",
        "colab": {
          "base_uri": "https://localhost:8080/"
        },
        "outputId": "2aa93b4b-d596-4afd-dc48-da2a9b009fbb"
      },
      "source": [
        "# Creating a confusion matrix\n",
        "from sklearn.metrics import confusion_matrix, classification_report, accuracy_score\n",
        "y_pred = classifier.predict(X_test)\n",
        "cm = confusion_matrix(y_test, y_pred)\n",
        "cm"
      ],
      "execution_count": null,
      "outputs": [
        {
          "output_type": "execute_result",
          "data": {
            "text/plain": [
              "array([[330,   4],\n",
              "       [  2, 164]])"
            ]
          },
          "metadata": {
            "tags": []
          },
          "execution_count": 39
        }
      ]
    },
    {
      "cell_type": "code",
      "metadata": {
        "id": "X13MSU9P3JEl",
        "colab": {
          "base_uri": "https://localhost:8080/",
          "height": 458
        },
        "outputId": "bd67be96-289e-480a-e998-62436532837c"
      },
      "source": [
        "# Plotting the confusion matrix\n",
        "plt.figure(figsize=(10,7))\n",
        "p = sns.heatmap(cm, annot=True, cmap=\"Blues\", fmt='g')\n",
        "plt.title('Confusion matrix for Random Forest Classifier Model - Test Set')\n",
        "plt.xlabel('Predicted Values')\n",
        "plt.ylabel('Actual Values')\n",
        "plt.show()"
      ],
      "execution_count": null,
      "outputs": [
        {
          "output_type": "display_data",
          "data": {
            "image/png": "[encoded data removed]",
            "text/plain": [
              "<Figure size 720x504 with 2 Axes>"
            ]
          },
          "metadata": {
            "tags": [],
            "needs_background": "light"
          }
        }
      ]
    },
    {
      "cell_type": "code",
      "metadata": {
        "id": "-DB-PXfo2epo",
        "colab": {
          "base_uri": "https://localhost:8080/"
        },
        "outputId": "bb18c242-dc4c-4d30-9f50-6dc1ac15318c"
      },
      "source": [
        "# Accuracy Score\n",
        "score = round(accuracy_score(y_test, y_pred),4)*100\n",
        "print(\"Accuracy on test set: {}%\".format(score))"
      ],
      "execution_count": null,
      "outputs": [
        {
          "output_type": "stream",
          "text": [
            "Accuracy on test set: 98.8%\n"
          ],
          "name": "stdout"
        }
      ]
    },
    {
      "cell_type": "code",
      "metadata": {
        "id": "X1sscutg4T7G",
        "colab": {
          "base_uri": "https://localhost:8080/"
        },
        "outputId": "f29be699-0efb-407d-bbdc-f02f15c6f67e"
      },
      "source": [
        "# Classification Report\n",
        "print(classification_report(y_test, y_pred))"
      ],
      "execution_count": null,
      "outputs": [
        {
          "output_type": "stream",
          "text": [
            "              precision    recall  f1-score   support\n",
            "\n",
            "           0       0.99      0.99      0.99       334\n",
            "           1       0.98      0.99      0.98       166\n",
            "\n",
            "    accuracy                           0.99       500\n",
            "   macro avg       0.99      0.99      0.99       500\n",
            "weighted avg       0.99      0.99      0.99       500\n",
            "\n"
          ],
          "name": "stdout"
        }
      ]
    },
    {
      "cell_type": "code",
      "metadata": {
        "id": "UxuVQ8WzZ4cY",
        "colab": {
          "base_uri": "https://localhost:8080/"
        },
        "outputId": "6cc90633-7fd1-4147-e5e2-0557d0d49cf0"
      },
      "source": [
        "# Creating a confusion matrix for training set\n",
        "y_train_pred = classifier.predict(X_train)\n",
        "cm = confusion_matrix(y_train, y_train_pred)\n",
        "cm"
      ],
      "execution_count": null,
      "outputs": [
        {
          "output_type": "execute_result",
          "data": {
            "text/plain": [
              "array([[982,   0],\n",
              "       [  0, 518]])"
            ]
          },
          "metadata": {
            "tags": []
          },
          "execution_count": 43
        }
      ]
    },
    {
      "cell_type": "code",
      "metadata": {
        "id": "pufLHBFCaSll",
        "colab": {
          "base_uri": "https://localhost:8080/",
          "height": 458
        },
        "outputId": "9f1ba5ea-ac3d-412c-a8cd-e520079e0010"
      },
      "source": [
        "# Plotting the confusion matrix\n",
        "plt.figure(figsize=(10,7))\n",
        "p = sns.heatmap(cm, annot=True, cmap=\"Blues\", fmt='g')\n",
        "plt.title('Confusion matrix for Random Forest Classifier Model - Train Set')\n",
        "plt.xlabel('Predicted Values')\n",
        "plt.ylabel('Actual Values')\n",
        "plt.show()"
      ],
      "execution_count": null,
      "outputs": [
        {
          "output_type": "display_data",
          "data": {
            "image/png": "[encoded data removed]",
            "text/plain": [
              "<Figure size 720x504 with 2 Axes>"
            ]
          },
          "metadata": {
            "tags": [],
            "needs_background": "light"
          }
        }
      ]
    },
    {
      "cell_type": "code",
      "metadata": {
        "id": "KiYrU_y0afzM",
        "colab": {
          "base_uri": "https://localhost:8080/",
          "height": 35
        },
        "outputId": "ea11c939-b751-4301-8bd0-c42c91da1bf3"
      },
      "source": [
        "# Accuracy Score\n",
        "score = round(accuracy_score(y_train, y_train_pred),4)*100\n",
        "print(\"Accuracy on trainning set: {}%\".format(score))"
      ],
      "execution_count": null,
      "outputs": [
        {
          "output_type": "stream",
          "text": [
            "Accuracy on trainning set: 99.94%\n"
          ],
          "name": "stdout"
        }
      ]
    },
    {
      "cell_type": "code",
      "metadata": {
        "id": "2j5fvnhsakyg",
        "colab": {
          "base_uri": "https://localhost:8080/",
          "height": 183
        },
        "outputId": "7f684298-20e7-4e78-f144-55d1b3ebc90c"
      },
      "source": [
        "# Classification Report\n",
        "print(classification_report(y_train, y_train_pred))"
      ],
      "execution_count": null,
      "outputs": [
        {
          "output_type": "stream",
          "text": [
            "              precision    recall  f1-score   support\n",
            "\n",
            "           0       1.00      1.00      1.00      1044\n",
            "           1       1.00      1.00      1.00       556\n",
            "\n",
            "    accuracy                           1.00      1600\n",
            "   macro avg       1.00      1.00      1.00      1600\n",
            "weighted avg       1.00      1.00      1.00      1600\n",
            "\n"
          ],
          "name": "stdout"
        }
      ]
    },
    {
      "cell_type": "markdown",
      "metadata": {
        "id": "HuKxvMZT1kJO"
      },
      "source": [
        "# Predictions"
      ]
    },
    {
      "cell_type": "code",
      "metadata": {
        "id": "QKJeJuzj3JEd"
      },
      "source": [
        "# Creating a function for prediction\n",
        "def predict_diabetes(Pregnancies, Glucose, BloodPressure, SkinThickness, Insulin, BMI, DPF, Age):\n",
        "    preg = int(Pregnancies)\n",
        "    glucose = float(Glucose)\n",
        "    bp = float(BloodPressure)\n",
        "    st = float(SkinThickness)\n",
        "    insulin = float(Insulin)\n",
        "    bmi = float(BMI)\n",
        "    dpf = float(DPF)\n",
        "    age = int(Age)\n",
        "\n",
        "    x = [[preg, glucose, bp, st, insulin, bmi, dpf, age]]\n",
        "    x = sc.transform(x)\n",
        "\n",
        "    return classifier.predict(x)"
      ],
      "execution_count": null,
      "outputs": []
    },
    {
      "cell_type": "code",
      "metadata": {
        "id": "-Nl2AajS3JEf",
        "colab": {
          "base_uri": "https://localhost:8080/"
        },
        "outputId": "139b7a34-3f83-4777-d56f-12ea6e5ee7a9"
      },
      "source": [
        "# Prediction 1\n",
        "# Input sequence: Pregnancies, Glucose, BloodPressure, SkinThickness, Insulin, BMI, DPF, Age\n",
        "prediction = predict_diabetes(2, 81, 72, 15, 76, 30.1, 0.547, 25)[0]\n",
        "if prediction:\n",
        "  print('Oops! You have diabetes.')\n",
        "else:\n",
        "  print(\"Great! You don't have diabetes.\")"
      ],
      "execution_count": null,
      "outputs": [
        {
          "output_type": "stream",
          "text": [
            "Great! You don't have diabetes.\n",
            "[0]\n"
          ],
          "name": "stdout"
        }
      ]
    },
    {
      "cell_type": "code",
      "metadata": {
        "id": "tA0LvQX95hyu",
        "colab": {
          "base_uri": "https://localhost:8080/"
        },
        "outputId": "f8068fd8-fbfe-45c4-b67b-da3bf2f80151"
      },
      "source": [
        "# Prediction 2\n",
        "# Input sequence: Pregnancies, Glucose, BloodPressure, SkinThickness, Insulin, BMI, DPF, Age\n",
        "prediction = predict_diabetes(1, 117, 88, 24, 145, 34.5, 0.403, 40)[0]\n",
        "if prediction:\n",
        "  print('Oops! You have diabetes.')\n",
        "else:\n",
        "  print(\"Great! You don't have diabetes.\")"
      ],
      "execution_count": null,
      "outputs": [
        {
          "output_type": "stream",
          "text": [
            "Oops! You have diabetes.\n"
          ],
          "name": "stdout"
        }
      ]
    },
    {
      "cell_type": "code",
      "metadata": {
        "id": "J4zezK0W3JEh",
        "colab": {
          "base_uri": "https://localhost:8080/"
        },
        "outputId": "fa1ea6af-ff09-4431-8db1-6075ec11b093"
      },
      "source": [
        "# Prediction 2\n",
        "# Input sequence: Pregnancies, Glucose, BloodPressure, SkinThickness, Insulin, BMI, DPF, Age\n",
        "prediction = predict_diabetes(5, 120, 92, 10, 81, 26.1, 0.551, 67)[0]\n",
        "if prediction:\n",
        "  print('Oops! You have diabetes.')\n",
        "else:\n",
        "  print(\"Great! You don't have diabetes.\")"
      ],
      "execution_count": null,
      "outputs": [
        {
          "output_type": "stream",
          "text": [
            "Great! You don't have diabetes.\n"
          ],
          "name": "stdout"
        }
      ]
    },
    {
      "cell_type": "code",
      "metadata": {
        "id": "_dyFcLKbPsjE"
      },
      "source": [
        ""
      ],
      "execution_count": null,
      "outputs": []
    }
  ]
}